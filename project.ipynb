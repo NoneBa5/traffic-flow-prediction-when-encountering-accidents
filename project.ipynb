{
 "cells": [
  {
   "metadata": {},
   "cell_type": "markdown",
   "source": "# Project",
   "id": "24ffbc34d8ee6d3b"
  },
  {
   "metadata": {
    "ExecuteTime": {
     "end_time": "2025-04-29T22:01:47.049699Z",
     "start_time": "2025-04-29T22:01:47.036043Z"
    }
   },
   "cell_type": "code",
   "source": [
    "import numpy as np\n",
    "import pandas as pd\n",
    "import torch\n",
    "import torch.nn as nn\n",
    "import matplotlib.pyplot as plt\n",
    "import folium\n",
    "from folium.plugins import TimestampedGeoJson\n",
    "import branca.colormap as cm\n",
    "from sklearn.neighbors import BallTree\n",
    "from torch.utils.data import Dataset, DataLoader, random_split\n",
    "from sklearn.metrics import mean_absolute_error, root_mean_squared_error, r2_score\n",
    "\n",
    "R           = 6371.0\n",
    "TOTAL_LEN   = 24 * 12\n",
    "SEQ_LEN     = 12\n",
    "HORIZON     = 4\n",
    "INPUT_SIZE  = 3\n",
    "BATCH_SIZE  = 64\n",
    "HIDDEN_SIZE = 128\n",
    "EPOCHS      = 40\n",
    "LR          = 1e-5\n",
    "RADIUS_KM   = 15\n",
    "DT          = 5                  # mins\n",
    "DEVICE      = \"cuda\" if torch.cuda.is_available() else \"cpu\""
   ],
   "id": "84f0612d32c055f7",
   "outputs": [],
   "execution_count": 127
  },
  {
   "metadata": {
    "ExecuteTime": {
     "end_time": "2025-04-29T20:50:52.441477Z",
     "start_time": "2025-04-29T20:50:52.434115Z"
    }
   },
   "cell_type": "code",
   "source": [
    "# Read data\n",
    "def load_raw_data(traffic_file, incident_file):\n",
    "    traffic_df = pd.read_csv(traffic_file)\n",
    "    incident_df= pd.read_csv(incident_file, parse_dates=[\"Timestamp\"])\n",
    "    \n",
    "    # Data cleaning\n",
    "    col_names = ['Timestamp', 'Station', 'District', 'Freeway', 'Direction', 'Lane Type',\n",
    "           'Station Length', 'Samples', 'Observed Percentage', 'Total Flow',\n",
    "           'Avg Occupancy', 'Avg Speed']\n",
    "    traffic_df = traffic_df.iloc[:, :len(col_names)]\n",
    "    traffic_df.columns = col_names\n",
    "    traffic_df.dropna(inplace=True)\n",
    "    traffic_df['Timestamp'] = pd.to_datetime(traffic_df['Timestamp'])\n",
    "    traffic_df = traffic_df.drop('District', axis=1)\n",
    "    \n",
    "    incident_df.dropna(inplace=True)\n",
    "    incident_df = incident_df[incident_df['District'] == 7.0]\n",
    "    incident_df = incident_df.drop('District', axis=1)\n",
    "    \n",
    "    return traffic_df, incident_df\n",
    "\n",
    "def load_sensor_data(sensor_file):\n",
    "    sensor_df  = pd.read_csv(sensor_file, sep=\"\\t\")\n",
    "    sensor_df = sensor_df.iloc[:, :-4]\n",
    "    sensor_df = sensor_df.drop(['City', 'Length', 'District'], axis=1)\n",
    "    sensor_df = sensor_df.dropna()\n",
    "    \n",
    "    return sensor_df"
   ],
   "id": "32671420f2551bc2",
   "outputs": [],
   "execution_count": 86
  },
  {
   "metadata": {
    "ExecuteTime": {
     "end_time": "2025-04-29T20:50:52.487512Z",
     "start_time": "2025-04-29T20:50:52.469698Z"
    }
   },
   "cell_type": "code",
   "source": [
    "# Geography plot\n",
    "def plot_geography(dataframe, title, info):\n",
    "    m = folium.Map(location=[dataframe['Latitude'].mean(), dataframe['Longitude'].mean()], zoom_start=12)\n",
    "    for index, row in dataframe.iterrows():\n",
    "        folium.Marker(\n",
    "            location=[row['Latitude'], row['Longitude']],\n",
    "            popup=row[info],\n",
    "            icon=folium.Icon(color='red', icon='info-sign')\n",
    "        ).add_to(m)\n",
    "    m.save(title + '_map.html')\n",
    "    return m"
   ],
   "id": "8d56ea8431ea62a3",
   "outputs": [],
   "execution_count": 87
  },
  {
   "metadata": {
    "ExecuteTime": {
     "end_time": "2025-04-29T20:50:52.502558Z",
     "start_time": "2025-04-29T20:50:52.488513Z"
    }
   },
   "cell_type": "code",
   "source": [
    "# Helper functions to compute distance\n",
    "def haversine(lat1, lon1, lat2, lon2):\n",
    "    R = 6371.0\n",
    "    phi1, phi2 = np.radians(lat1), np.radians(lat2)\n",
    "    dphi   = np.radians(lat2 - lat1)\n",
    "    dlambda= np.radians(lon2 - lon1)\n",
    "    a = np.sin(dphi/2)**2 + np.cos(phi1) * np.cos(phi2) * np.sin(dlambda/2)**2\n",
    "    return 2 * R * np.arctan2(np.sqrt(a), np.sqrt(1-a))\n",
    "\n",
    "# Build a time series dataset of all sensors\n",
    "def build_sensor_sequences(traffic_df, incident_df, sensor_df):\n",
    "    sensors = traffic_df[\"Station\"].unique().tolist()\n",
    "    sequence = pd.DataFrame(columns=sensors )\n",
    "    sequence.set_index(traffic_df[\"Timestamp\"].unique())\n",
    "    for _, row in traffic_df.iterrows():\n",
    "        sequence.loc[row[\"Timestamp\"], row[\"Station\"]] = row[\"Total Flow\"]\n",
    "    return sequence\n",
    "\n",
    "# Attach sensors to incidents\n",
    "def attach_sensors_by_route(inc_df, sens_df, radius_km = RADIUS_KM):\n",
    "    mapping= {}\n",
    "    for _, inc in inc_df.iterrows():\n",
    "        freeway = inc[\"Freeway Number\"]\n",
    "        direction = inc[\"Freeway Direction\"]\n",
    "        lat_a, lon_a = inc[\"Latitude\"], inc[\"Longitude\"]\n",
    "        cond = (sens_df[\"Fwy\"] == freeway) & (sens_df[\"Dir\"] == direction)\n",
    "        candidates = sens_df.loc[cond]\n",
    "        sid_list = []\n",
    "        for _, s in candidates.iterrows():\n",
    "            dist = haversine(lat_a, lon_a, s[\"Latitude\"], s[\"Longitude\"])\n",
    "            if dist <= radius_km:\n",
    "                sid_list.append(int(s[\"ID\"]))\n",
    "        mapping[int(inc[\"Incident ID\"])] = sid_list\n",
    "    return mapping\n",
    "\n",
    "def attach_all(inc_df, sens_df):\n",
    "    sens_coords = np.radians(sens_df[[\"Latitude\", \"Longitude\"]].to_numpy()[:, ::-1])\n",
    "    tree = BallTree(sens_coords, metric=\"haversine\")\n",
    "    radius_rad = RADIUS_KM / R\n",
    "    inc_coords = np.radians(inc_df[[\"Latitude\", \"Longitude\"]].to_numpy()[:, ::-1])\n",
    "    all_neighbors = tree.query_radius(inc_coords, r=radius_rad)\n",
    "    mapping = {}\n",
    "    for inc_idx, sensor_idx_array in enumerate(all_neighbors):\n",
    "        inc_id = int(inc_df.iloc[inc_idx][\"Incident ID\"])\n",
    "        mapping[inc_id] = sens_df.iloc[sensor_idx_array][\"ID\"].astype(int).tolist()\n",
    "    return mapping\n",
    "            \n",
    "\n",
    "# Build data sequences for LSTM\n",
    "def build_sequences(traffic_df, incident_df, sensor_df, mapping):\n",
    "    traffic_df = traffic_df.set_index([\"Station\", \"Timestamp\"]).sort_index()\n",
    "    sensor_df = sensor_df.set_index([\"ID\"])\n",
    "    samples= []\n",
    "\n",
    "    for _, inc in incident_df.iterrows():\n",
    "        inc_id = int(inc[\"Incident ID\"])\n",
    "        inc_t_aligned = pd.Timestamp(inc[\"Timestamp\"]).round(\"5min\")\n",
    "        for sid in mapping.get(inc_id, []):\n",
    "            past_rng = pd.date_range(end=inc_t_aligned, periods=SEQ_LEN, freq=\"5min\")\n",
    "            fut_rng  = pd.date_range(start=inc_t_aligned + pd.Timedelta(minutes=DT),\n",
    "                                     periods=HORIZON, freq=\"5min\")\n",
    "            try:\n",
    "                past_flow = traffic_df.loc[(sid, past_rng), \"Total Flow\"].values.astype(float)\n",
    "                fut_flow  = traffic_df.loc[(sid, fut_rng ), \"Total Flow\"].values.astype(float)\n",
    "                distance  = haversine(inc[\"Latitude\"], inc[\"Longitude\"],\n",
    "                                       sensor_df.loc[sid, \"Latitude\"], sensor_df.loc[sid, \"Longitude\"])\n",
    "            except KeyError:\n",
    "                continue\n",
    "            samples.append({\"X_flow\": past_flow, \"Y_flow\": fut_flow, \"ID\": sid, \"distance\": distance, \"t_inc\": inc_t_aligned})\n",
    "    return samples"
   ],
   "id": "6233d0cb60765bc8",
   "outputs": [],
   "execution_count": 88
  },
  {
   "metadata": {
    "ExecuteTime": {
     "end_time": "2025-04-29T20:50:52.517762Z",
     "start_time": "2025-04-29T20:50:52.503559Z"
    }
   },
   "cell_type": "code",
   "source": [
    "# Build a dataset for LSTM\n",
    "class TrafficDataset(Dataset):\n",
    "    def __init__(self, samples, mu=None, std=None):\n",
    "        self.samples = samples\n",
    "        flows = np.concatenate([s[\"X_flow\"] for s in samples] + [s[\"Y_flow\"] for s in samples])\n",
    "        self.mu = mu if mu is not None else np.mean(flows)\n",
    "        self.std = std if std is not None else (np.std(flows) + 1e-6)\n",
    "\n",
    "    def __len__(self):\n",
    "        return len(self.samples)\n",
    "\n",
    "    def __getitem__(self, idx):\n",
    "        s = self.samples[idx]\n",
    "        rows = []\n",
    "        for i in range(SEQ_LEN):\n",
    "            flow_n = (s[\"X_flow\"][i] - self.mu) / self.std\n",
    "            inc_fg = 1.0 if i == SEQ_LEN-1 else 0.0\n",
    "            rows.append([flow_n, inc_fg, s[\"distance\"]])\n",
    "        X = torch.tensor(rows, dtype=torch.float32)                                # (T, 3)\n",
    "        Y = torch.tensor((s[\"Y_flow\"] - self.mu) / self.std, dtype=torch.float32)  # (H,)\n",
    "        t = int(s[\"t_inc\"].timestamp())\n",
    "        return X, Y, s[\"ID\"], t"
   ],
   "id": "e9131a342ce01b08",
   "outputs": [],
   "execution_count": 89
  },
  {
   "metadata": {
    "ExecuteTime": {
     "end_time": "2025-04-29T20:50:52.533303Z",
     "start_time": "2025-04-29T20:50:52.519762Z"
    }
   },
   "cell_type": "code",
   "source": [
    "# Build LSTM model\n",
    "class LSTM(torch.nn.Module):\n",
    "    def __init__(self, input_size, hidden, horizon):\n",
    "        super().__init__()\n",
    "        self.lstm = nn.LSTM(input_size, hidden, batch_first=True)\n",
    "        self.fc   = nn.Linear(hidden, horizon)\n",
    "\n",
    "    def forward(self, x):                # (B, T, 3)\n",
    "        _, (h, _) = self.lstm(x)\n",
    "        return self.fc(h[-1])            # (B, H)"
   ],
   "id": "503df9df4c6bffea",
   "outputs": [],
   "execution_count": 90
  },
  {
   "metadata": {
    "ExecuteTime": {
     "end_time": "2025-04-29T20:50:52.549207Z",
     "start_time": "2025-04-29T20:50:52.534803Z"
    }
   },
   "cell_type": "code",
   "source": [
    "# Train the model\n",
    "def run_model(model, loader, opt=None):\n",
    "    train = opt is not None\n",
    "    model.train() if train else model.eval()\n",
    "    loss_fn = nn.MSELoss()\n",
    "    total = 0.0\n",
    "    for X, Y, _, _ in loader:\n",
    "        X, Y = X.to(DEVICE), Y.to(DEVICE)\n",
    "        loss = loss_fn(model(X), Y)\n",
    "        if train:\n",
    "            opt.zero_grad()\n",
    "            loss.backward()\n",
    "            opt.step()\n",
    "        total += loss.item() * X.size(0)\n",
    "    return total/len(loader.dataset)\n",
    "\n",
    "# Evaluate the model\n",
    "def reg_metrics(pred, true):\n",
    "    mae  = mean_absolute_error(true, pred)\n",
    "    rmse = root_mean_squared_error(true, pred)\n",
    "    mape = np.mean(np.abs((true - pred) / (true + 1e-6)))\n",
    "    r2   = r2_score(true, pred)\n",
    "    return dict(MAE=mae, RMSE=rmse, MAPE=mape, R2=r2)\n",
    "\n",
    "def evaluate(model, loader):\n",
    "    model.eval()\n",
    "    all_p, all_t = [], []\n",
    "    with torch.no_grad():\n",
    "        for X, Y, _, _ in loader:\n",
    "            pred = model(X.to(DEVICE)).cpu()\n",
    "            all_p.append(pred); all_t.append(Y)\n",
    "    pred = torch.cat(all_p).numpy()\n",
    "    true = torch.cat(all_t).numpy()\n",
    "\n",
    "    metrics = reg_metrics(pred, true)\n",
    "    step_mse = [root_mean_squared_error(true[:,h], pred[:,h]) for h in range(HORIZON)]\n",
    "    return metrics, step_mse, pred, true"
   ],
   "id": "7cd6a5bd10e77f2c",
   "outputs": [],
   "execution_count": 91
  },
  {
   "metadata": {
    "ExecuteTime": {
     "end_time": "2025-04-30T02:43:43.931265Z",
     "start_time": "2025-04-30T02:43:43.907814Z"
    }
   },
   "cell_type": "code",
   "source": [
    "# Visualize the loss\n",
    "def plot_loss(loss_list):\n",
    "    plt.figure(figsize=(8, 6))\n",
    "    plt.plot(loss_list[:, 0], label='Training Loss')\n",
    "    plt.plot(loss_list[:, 1], label='Validation Loss')\n",
    "    plt.xlabel('Epoch')\n",
    "    plt.ylabel('Loss')\n",
    "    plt.title('Loss Over Epochs')\n",
    "    plt.legend()\n",
    "    plt.grid()\n",
    "    plt.show()\n",
    "\n",
    "# Helper to convert values to colors\n",
    "def flow_to_color(val, vmin, vmax, cmap):\n",
    "    val = float(val)\n",
    "    val = max(vmin, min(val, vmax))\n",
    "    return cmap(val)\n",
    "\n",
    "# Build a folium map\n",
    "def create_layer(sensor_df, val_df, name, cmap, horizon_step=0, show=True):\n",
    "    layer = folium.FeatureGroup(name=name, show=show)\n",
    "    for lat, lon, val in zip(sensor_df[\"Latitude\"], sensor_df[\"Longitude\"], val_df[:, horizon_step]):\n",
    "        clr = cmap(val)\n",
    "        folium.CircleMarker(\n",
    "            location=(lat, lon),\n",
    "            radius=10,\n",
    "            color=clr,\n",
    "            fill=True,\n",
    "            fill_color=clr,\n",
    "            fill_opacity=0.7,\n",
    "            popup=f\"{val:.0f}\"\n",
    "        ).add_to(layer)\n",
    "    return layer\n",
    "\n",
    "# Plot differences between predicted and true values\n",
    "def build_compare_map(sensor_df, preds, truth):\n",
    "    center = [sensor_df[\"Latitude\"].mean(), sensor_df[\"Longitude\"].mean()]\n",
    "    fmap = folium.Map(location=center, zoom_start=10, control_scale=True)\n",
    "\n",
    "    # Color map\n",
    "    for h in range(HORIZON):\n",
    "        all_vals = np.concatenate([preds[:, h], truth[:, h]])\n",
    "        vmax = all_vals.max()\n",
    "        cmap = cm.LinearColormap([\"green\", \"yellow\", \"red\"], vmin=0.0, vmax=vmax)\n",
    "    \n",
    "        # Truth flow layer\n",
    "        true_layer = create_layer(sensor_df, truth, f\"True Flow {h+1}\", cmap, h)\n",
    "        true_layer.add_to(fmap)\n",
    "    \n",
    "        # Predicted flow layer\n",
    "        pred_layer = create_layer(sensor_df, preds, f\"Predicted Flow {h+1}\", cmap, h)\n",
    "        pred_layer.add_to(fmap)\n",
    "        \n",
    "        error_layer = create_layer(sensor_df, preds - truth, f\"Predicted Flow {h+1}\", cmap, h)\n",
    "\n",
    "    # Legend and layer control\n",
    "    cmap.caption = \"Total Flow (veh / 5 min)\"\n",
    "    fmap.add_child(cmap)\n",
    "    folium.LayerControl().add_to(fmap)\n",
    "    return fmap\n",
    "\n",
    "# Plot the predicted outcomes\n",
    "def build_outcome_map(sensor_df, incident_df, vals, ids):\n",
    "    center = [sensor_df[\"Latitude\"].mean(), sensor_df[\"Longitude\"].mean()]\n",
    "    fmap = folium.Map(location=center, zoom_start=10, control_scale=True)\n",
    "    vmax = float(vals.max())\n",
    "    cmap = cm.LinearColormap([\"green\", \"yellow\", \"red\"], vmin=0.0, vmax=vmax)\n",
    "    \n",
    "    # Pin the incident locations\n",
    "    inc_layer = folium.FeatureGroup(name=\"Incident Points\", show=True, control=True)\n",
    "    for id in ids:\n",
    "        id = int(id)\n",
    "        if id in incident_df[\"Incident ID\"].values:\n",
    "            # Get the incident point\n",
    "            incident_point = incident_df[incident_df[\"Incident ID\"] == id][[\"Latitude\", \"Longitude\"]].values[0]\n",
    "            folium.Marker(\n",
    "                location=incident_point,\n",
    "                icon=folium.Icon(color='red', icon='info-sign'),\n",
    "                popup=f\"Incident ID: {id}\",\n",
    "            ).add_to(inc_layer)\n",
    "    inc_layer.add_to(fmap)\n",
    "\n",
    "    for h in range(HORIZON):\n",
    "        layer = create_layer(sensor_df, vals, f\"{(h+1)*5} min Pred after incident\", cmap, h)\n",
    "        layer.add_to(fmap)\n",
    "\n",
    "    cmap.caption = \"Total Flow (veh / 5 min)\"\n",
    "    fmap.add_child(cmap)\n",
    "    folium.LayerControl().add_to(fmap)\n",
    "    return fmap"
   ],
   "id": "bb30bbc4d3191e35",
   "outputs": [],
   "execution_count": 137
  },
  {
   "metadata": {
    "ExecuteTime": {
     "end_time": "2025-04-29T20:52:28.274261Z",
     "start_time": "2025-04-29T20:50:52.564439Z"
    }
   },
   "cell_type": "code",
   "source": [
    "# Data loading and preprocessing\n",
    "sensor = load_sensor_data(\"d07_text_meta_2023_12_22.txt\")\n",
    "\n",
    "traffic_07, incident_07= load_raw_data(\"d07_text_station_5min_2025_01_07.txt\", \"all_text_chp_incident_day_2025_01_07.csv\")\n",
    "mapping_07  = attach_sensors_by_route(incident_07, sensor)\n",
    "samples_07 = build_sequences(traffic_07, incident_07, sensor, mapping_07)\n",
    "print(\"Number of Samples for training:\", len(samples_07))\n",
    "\n",
    "traffic_08, incident_08= load_raw_data(\"d07_text_station_5min_2025_01_08.txt\", \"all_text_chp_incident_day_2025_01_08.csv\")\n",
    "mapping_08  = attach_sensors_by_route(incident_08, sensor)\n",
    "samples_08 = build_sequences(traffic_08, incident_08, sensor, mapping_08)\n",
    "print(\"Number of Samples for validation and test:\", len(samples_08))\n",
    "\n",
    "train_ds = TrafficDataset(samples_07)\n",
    "\n",
    "val_len   = len(samples_08) // 2\n",
    "val_ds, test_ds = random_split(\n",
    "        TrafficDataset(samples_08, mu=train_ds.mu, std=train_ds.std),\n",
    "        [val_len, len(samples_08)-val_len],\n",
    "        generator=torch.Generator().manual_seed(42)\n",
    ")\n",
    "\n",
    "train_ld = DataLoader(train_ds, BATCH_SIZE, shuffle=True)\n",
    "val_ld   = DataLoader(val_ds,   BATCH_SIZE)\n",
    "test_ld  = DataLoader(test_ds,  BATCH_SIZE)"
   ],
   "id": "33e42d469de9ad59",
   "outputs": [
    {
     "name": "stdout",
     "output_type": "stream",
     "text": [
      "Number of Samples for training: 22234\n",
      "Number of Samples for validation and test: 16794\n"
     ]
    }
   ],
   "execution_count": 93
  },
  {
   "metadata": {
    "ExecuteTime": {
     "end_time": "2025-04-29T22:02:37.019186Z",
     "start_time": "2025-04-29T22:01:51.579323Z"
    }
   },
   "cell_type": "code",
   "source": [
    "# Train the model\n",
    "model = LSTM(input_size=INPUT_SIZE, hidden=HIDDEN_SIZE, horizon=HORIZON).to(DEVICE)\n",
    "opt   = torch.optim.Adam(model.parameters(), lr=LR)\n",
    "\n",
    "best, patience = float('inf'), 0\n",
    "loss_list = []\n",
    "for epoch in range(1, EPOCHS+1):\n",
    "    tr, val = run_model(model, train_ld, opt), run_model(model, val_ld)\n",
    "    loss_list.append((tr, val))\n",
    "    print(f\"Epoch {epoch:02d} | train {tr:.4f} | val {val:.4f}\")\n",
    "    if val < best - 1e-4:\n",
    "        best, patience = val, 0\n",
    "        torch.save(model.state_dict(), \"best_flow.pth\")\n",
    "    else:\n",
    "        patience += 1\n",
    "        if patience >= 6:\n",
    "            break\n",
    "\n",
    "# Plot loss\n",
    "loss_list = np.array(loss_list)\n",
    "plot_loss(loss_list)\n",
    "\n",
    "model.load_state_dict(torch.load(\"best_flow.pth\", weights_only=True))\n",
    "test_mse = run_model(model, test_ld)\n",
    "print(f\"Test MSE: {test_mse:.4f}\")"
   ],
   "id": "4bd96f7a547d7366",
   "outputs": [
    {
     "name": "stdout",
     "output_type": "stream",
     "text": [
      "Epoch 01 | train 0.9466 | val 0.9828\n",
      "Epoch 02 | train 0.8533 | val 0.8203\n",
      "Epoch 03 | train 0.4984 | val 0.2050\n",
      "Epoch 04 | train 0.1347 | val 0.1193\n",
      "Epoch 05 | train 0.1013 | val 0.0986\n",
      "Epoch 06 | train 0.0875 | val 0.0875\n",
      "Epoch 07 | train 0.0786 | val 0.0794\n",
      "Epoch 08 | train 0.0713 | val 0.0715\n",
      "Epoch 09 | train 0.0646 | val 0.0644\n",
      "Epoch 10 | train 0.0585 | val 0.0565\n",
      "Epoch 11 | train 0.0530 | val 0.0505\n",
      "Epoch 12 | train 0.0484 | val 0.0460\n",
      "Epoch 13 | train 0.0449 | val 0.0415\n",
      "Epoch 14 | train 0.0424 | val 0.0385\n",
      "Epoch 15 | train 0.0404 | val 0.0361\n",
      "Epoch 16 | train 0.0387 | val 0.0344\n",
      "Epoch 17 | train 0.0372 | val 0.0327\n",
      "Epoch 18 | train 0.0358 | val 0.0313\n",
      "Epoch 19 | train 0.0344 | val 0.0300\n",
      "Epoch 20 | train 0.0331 | val 0.0281\n",
      "Epoch 21 | train 0.0318 | val 0.0268\n",
      "Epoch 22 | train 0.0305 | val 0.0255\n",
      "Epoch 23 | train 0.0292 | val 0.0246\n",
      "Epoch 24 | train 0.0280 | val 0.0232\n",
      "Epoch 25 | train 0.0268 | val 0.0222\n",
      "Epoch 26 | train 0.0258 | val 0.0211\n",
      "Epoch 27 | train 0.0249 | val 0.0206\n",
      "Epoch 28 | train 0.0242 | val 0.0197\n",
      "Epoch 29 | train 0.0236 | val 0.0192\n",
      "Epoch 30 | train 0.0231 | val 0.0187\n",
      "Epoch 31 | train 0.0227 | val 0.0183\n",
      "Epoch 32 | train 0.0223 | val 0.0183\n",
      "Epoch 33 | train 0.0220 | val 0.0177\n",
      "Epoch 34 | train 0.0218 | val 0.0174\n",
      "Epoch 35 | train 0.0215 | val 0.0172\n",
      "Epoch 36 | train 0.0213 | val 0.0171\n",
      "Epoch 37 | train 0.0211 | val 0.0169\n",
      "Epoch 38 | train 0.0210 | val 0.0167\n",
      "Epoch 39 | train 0.0208 | val 0.0166\n",
      "Epoch 40 | train 0.0207 | val 0.0168\n"
     ]
    },
    {
     "data": {
      "text/plain": [
       "<Figure size 800x600 with 1 Axes>"
      ],
      "image/png": "[encoded data removed]"
     },
     "metadata": {},
     "output_type": "display_data"
    },
    {
     "name": "stdout",
     "output_type": "stream",
     "text": [
      "Test MSE: 0.0164\n"
     ]
    }
   ],
   "execution_count": 128
  },
  {
   "metadata": {
    "ExecuteTime": {
     "end_time": "2025-04-29T20:53:13.529719Z",
     "start_time": "2025-04-29T20:53:13.301780Z"
    }
   },
   "cell_type": "code",
   "source": [
    "metrics, step_mse, preds, truth = evaluate(model, test_ld)\n",
    "print(\"Evaluation Metrics:\")\n",
    "for k, v in metrics.items():\n",
    "    print(f\"{k}: {v:.4f}\")\n",
    "print(\"Step-wise MSE:\")\n",
    "for h, v in enumerate(step_mse):\n",
    "    print(f\"Step {h+1}: {v:.4f}\")"
   ],
   "id": "1bba41f7461b340b",
   "outputs": [
    {
     "name": "stdout",
     "output_type": "stream",
     "text": [
      "Evaluation Metrics:\n",
      "MAE: 0.0595\n",
      "RMSE: 0.1130\n",
      "MAPE: 0.2715\n",
      "R2: 0.9872\n",
      "Step-wise MSE:\n",
      "Step 1: 0.0843\n",
      "Step 2: 0.1085\n",
      "Step 3: 0.1230\n",
      "Step 4: 0.1362\n"
     ]
    }
   ],
   "execution_count": 95
  },
  {
   "metadata": {
    "ExecuteTime": {
     "end_time": "2025-04-29T20:56:40.724427Z",
     "start_time": "2025-04-29T20:56:40.306419Z"
    }
   },
   "cell_type": "code",
   "source": [
    "# Visualize the prediction and ground truth\n",
    "model.eval()\n",
    "all_raw, all_pred, all_true, all_ids, all_t = [], [], [], [], []\n",
    "\n",
    "for X_batch, Y_batch, s_id, t in test_ld:\n",
    "    X_batch, Y_batch = X_batch.to(DEVICE), Y_batch.to(DEVICE)\n",
    "    with torch.no_grad():\n",
    "        pred_batch = model(X_batch).cpu()      # (batch, horizon)\n",
    "    all_raw.append(X_batch.cpu())\n",
    "    all_pred.append(pred_batch)\n",
    "    all_true.append(Y_batch.cpu())\n",
    "    all_ids.append(s_id)\n",
    "    all_t.append(t)\n",
    "\n",
    "raw   = torch.cat(all_raw, dim=0)[:, :, 0]     # (N, seq_len, 3)\n",
    "preds = torch.cat(all_pred, dim=0)             # (N, horizon)\n",
    "truth = torch.cat(all_true, dim=0)             # (N, horizon)\n",
    "ids   = np.concatenate(all_ids, axis=0)\n",
    "t     = np.concatenate(all_t, axis=0)\n",
    "\n",
    "raw_denorm   = raw * train_ds.std + train_ds.mu\n",
    "preds_denorm = preds * train_ds.std + train_ds.mu\n",
    "truth_denorm = truth * train_ds.std + train_ds.mu\n",
    "\n",
    "avg_raw   = raw_denorm.mean(axis=0)\n",
    "avg_preds = preds_denorm.mean(axis=0)\n",
    "avg_truth = truth_denorm.mean(axis=0)"
   ],
   "id": "bdd650c4a73149b6",
   "outputs": [],
   "execution_count": 108
  },
  {
   "metadata": {
    "ExecuteTime": {
     "end_time": "2025-04-29T21:14:05.030273Z",
     "start_time": "2025-04-29T21:14:03.104512Z"
    }
   },
   "cell_type": "code",
   "source": [
    "plt.figure(figsize=(12, 6))\n",
    "plt.plot(range(1, SEQ_LEN+1), avg_raw, label='Raw')\n",
    "plt.plot(range(SEQ_LEN+1, SEQ_LEN+HORIZON+1), avg_preds, label='Preds')\n",
    "plt.plot(range(SEQ_LEN+1, SEQ_LEN+HORIZON+1), avg_truth, label='Truth')\n",
    "plt.xlabel('Time (5 min)')\n",
    "plt.ylabel('Total Flow (veh / 5 min)')\n",
    "plt.title('Average Traffic Flow')\n",
    "plt.legend()\n",
    "plt.grid()\n",
    "plt.show()"
   ],
   "id": "c780addcb5d6d25",
   "outputs": [
    {
     "data": {
      "text/plain": [
       "<Figure size 1200x600 with 1 Axes>"
      ],
      "image/png": "[encoded data removed]"
     },
     "metadata": {},
     "output_type": "display_data"
    }
   ],
   "execution_count": 118
  },
  {
   "metadata": {
    "ExecuteTime": {
     "end_time": "2025-04-29T20:53:13.825112Z",
     "start_time": "2025-04-29T20:53:13.811113Z"
    }
   },
   "cell_type": "code",
   "source": [
    "def build_plot_df(sensor_df, preds, truth, ids, t):\n",
    "    rows = []\n",
    "    dt = pd.Timedelta(minutes=DT)\n",
    "    for i in range(len(ids)):\n",
    "        sid = ids[i]\n",
    "        t0 = pd.Timestamp(t[i], unit='s')\n",
    "        for h in range(HORIZON):\n",
    "            t_cur = t0 + (h + 1) * dt\n",
    "            pred_flow = float(preds[i, h])\n",
    "            true_flow = float(truth[i, h])\n",
    "            rows.append({\n",
    "                \"ID\": int(sid),\n",
    "                \"time\": t_cur.floor(\"5min\"),\n",
    "                \"horizon\": h+1,\n",
    "                \"pred\": pred_flow,\n",
    "                \"truth\": true_flow,\n",
    "                \"diff\": pred_flow - true_flow\n",
    "            })\n",
    "    \n",
    "    df = pd.DataFrame(rows)\n",
    "    \n",
    "    df = df.merge(sensor_df[[\"ID\", \"Latitude\", \"Longitude\"]], on=\"ID\", how=\"left\")\n",
    "    return df\n",
    "\n",
    "def plot_df(df, horizon_step=1):\n",
    "    vmin, vmax = df[\"truth\"].min(), df[\"truth\"].max()\n",
    "    cmap = cm.LinearColormap([\"green\", \"yellow\", \"red\"], vmin=vmin, vmax=vmax)\n",
    "    \n",
    "    features_truth = []\n",
    "    features_pred  = []\n",
    "    for r in df.itertuples():\n",
    "        clr_truth = cmap(r.truth)\n",
    "        clr_pred  = cmap(r.pred)\n",
    "        features_truth.append({\n",
    "            \"type\": \"Feature\",\n",
    "            \"geometry\": {\"type\":\"Point\",\n",
    "                         \"coordinates\":[r.Longitude, r.Latitude]},\n",
    "            \"properties\": {\n",
    "                \"time\":  r.time.isoformat(),\n",
    "                \"popup\": f\"s:{r.ID}<br>truth:{r.truth:.1f}\",\n",
    "                \"icon\": \"circle\",\n",
    "                \"iconstyle\": {\n",
    "                    \"fillColor\": clr_truth,\n",
    "                    \"color\": \"white\",\n",
    "                    \"fillOpacity\": 0.9,\n",
    "                    \"radius\": 8\n",
    "                }\n",
    "            }\n",
    "        })\n",
    "        features_pred.append({\n",
    "            \"type\": \"Feature\",\n",
    "            \"geometry\": {\"type\":\"Point\",\n",
    "                         \"coordinates\":[r.Longitude, r.Latitude]},\n",
    "            \"properties\": {\n",
    "                \"time\":  r.time.isoformat(),\n",
    "                \"popup\": f\"s:{r.ID}<br>pred:{r.pred:.1f}\",\n",
    "                \"icon\": \"circle\",\n",
    "                \"iconstyle\": {\n",
    "                    \"fillColor\": clr_pred,\n",
    "                    \"color\": \"black\",\n",
    "                    \"fillOpacity\": 0.9,\n",
    "                    \"radius\": 8\n",
    "                }\n",
    "            }\n",
    "        })\n",
    "        \n",
    "    m = folium.Map(location=[df.Latitude.mean(), df.Longitude.mean()], zoom_start=11, control_scale=True)\n",
    "    TimestampedGeoJson(\n",
    "        {\"type\":\"FeatureCollection\",\"features\":features_truth},\n",
    "        duration=\"PT5M\", period=\"PT5M\", add_last_point= False, auto_play=False\n",
    "    ).add_to(m)\n",
    "    TimestampedGeoJson(\n",
    "        {\"type\":\"FeatureCollection\",\"features\":features_pred},\n",
    "        duration=\"PT5M\", period=\"PT5M\", add_last_point= False, auto_play=False\n",
    "    ).add_to(m)\n",
    "    cmap.caption = f\"Flow (horizon {horizon_step})\"\n",
    "    cmap.add_to(m)\n",
    "    m.save(f\"day_h{horizon_step}.html\")"
   ],
   "id": "cca74641baac1509",
   "outputs": [],
   "execution_count": 98
  },
  {
   "metadata": {
    "ExecuteTime": {
     "end_time": "2025-04-29T20:53:18.103617Z",
     "start_time": "2025-04-29T20:53:13.826114Z"
    }
   },
   "cell_type": "code",
   "source": [
    "df_map = build_plot_df(sensor, preds_denorm, truth_denorm, ids, t)\n",
    "plot_df(df_map, horizon_step=2)"
   ],
   "id": "75abeee030b2e84b",
   "outputs": [],
   "execution_count": 99
  },
  {
   "metadata": {},
   "cell_type": "code",
   "outputs": [],
   "execution_count": null,
   "source": [
    "def get_example(traffic_df,  sensor_df, inc):\n",
    "    traffic_df = traffic_df.set_index([\"Station\", \"Timestamp\"]).sort_index()\n",
    "    sensor_df = sensor_df.set_index([\"ID\"])\n",
    "    examples = []\n",
    "    inc_t_aligned = pd.Timestamp(inc[\"Timestamp\"]).round(\"5min\")\n",
    "    past_rng = pd.date_range(end=inc_t_aligned, periods=SEQ_LEN, freq=\"5min\")\n",
    "    fut_rng  = pd.date_range(start=inc_t_aligned + pd.Timedelta(minutes=DT), periods=HORIZON, freq=\"5min\")\n",
    "    for sid in traffic_df[\"Station\"].unique():\n",
    "        try:\n",
    "            past_flow = traffic_df.loc[(sid, past_rng), \"Total Flow\"].values.astype(float)\n",
    "            fut_flow  = traffic_df.loc[(sid, fut_rng ), \"Total Flow\"].values.astype(float)\n",
    "            distance  = haversine(inc[\"Latitude\"], inc[\"Longitude\"],\n",
    "                                   sensor_df.loc[sid, \"Latitude\"], sensor_df.loc[sid, \"Longitude\"])\n",
    "        except KeyError:\n",
    "            continue\n",
    "        examples.append({\"X_flow\": past_flow, \"Y_flow\": fut_flow, \"ID\": sid, \"distance\": distance, \"t_inc\": inc_t_aligned})"
   ],
   "id": "3a184ba86e973b91"
  },
  {
   "metadata": {
    "ExecuteTime": {
     "end_time": "2025-04-30T02:45:24.232406Z",
     "start_time": "2025-04-30T02:44:53.741177Z"
    }
   },
   "cell_type": "code",
   "source": [
    "# Compare map\n",
    "fmap = build_compare_map(sensor, preds_denorm, truth_denorm)\n",
    "fmap.save(\"flow_compare_map.html\")"
   ],
   "id": "8977bc3b248501df",
   "outputs": [],
   "execution_count": 140
  },
  {
   "metadata": {
    "ExecuteTime": {
     "end_time": "2025-04-29T20:53:34.319799Z",
     "start_time": "2025-04-29T20:53:23.153140Z"
    }
   },
   "cell_type": "code",
   "source": [
    "# Analyze map\n",
    "fmap_outcome = build_outcome_map(sensor, incident_08, preds_denorm, ids)\n",
    "fmap_outcome.save(\"flow_outcome_map.html\")"
   ],
   "id": "ea62798efe870f2b",
   "outputs": [],
   "execution_count": 101
  }
 ],
 "metadata": {
  "kernelspec": {
   "display_name": "Python 3",
   "language": "python",
   "name": "python3"
  },
  "language_info": {
   "codemirror_mode": {
    "name": "ipython",
    "version": 2
   },
   "file_extension": ".py",
   "mimetype": "text/x-python",
   "name": "python",
   "nbconvert_exporter": "python",
   "pygments_lexer": "ipython2",
   "version": "2.7.6"
  }
 },
 "nbformat": 4,
 "nbformat_minor": 5
}
